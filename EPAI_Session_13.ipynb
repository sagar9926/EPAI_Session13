{
  "nbformat": 4,
  "nbformat_minor": 0,
  "metadata": {
    "colab": {
      "name": "EPAI Session 13.ipynb",
      "provenance": [],
      "collapsed_sections": [],
      "authorship_tag": "ABX9TyNH+2iaihJVx6IIoiNR0Sie",
      "include_colab_link": true
    },
    "kernelspec": {
      "name": "python3",
      "display_name": "Python 3"
    }
  },
  "cells": [
    {
      "cell_type": "markdown",
      "metadata": {
        "id": "view-in-github",
        "colab_type": "text"
      },
      "source": [
        "<a href=\"https://colab.research.google.com/github/sagar9926/EPAI_Session13/blob/main/EPAI_Session_13.ipynb\" target=\"_parent\"><img src=\"https://colab.research.google.com/assets/colab-badge.svg\" alt=\"Open In Colab\"/></a>"
      ]
    },
    {
      "cell_type": "code",
      "metadata": {
        "id": "qjF6qBC2hFLZ",
        "outputId": "60fbd47f-b834-483a-d94e-df8b24307be1",
        "colab": {
          "base_uri": "https://localhost:8080/"
        }
      },
      "source": [
        "!git clone https://github.com/sagar9926/EPAI_Session13.git"
      ],
      "execution_count": 1,
      "outputs": [
        {
          "output_type": "stream",
          "text": [
            "Cloning into 'EPAI_Session13'...\n",
            "remote: Enumerating objects: 30, done.\u001b[K\n",
            "remote: Counting objects: 100% (30/30), done.\u001b[K\n",
            "remote: Compressing objects: 100% (28/28), done.\u001b[K\n",
            "remote: Total 30 (delta 10), reused 0 (delta 0), pack-reused 0\u001b[K\n",
            "Unpacking objects: 100% (30/30), done.\n"
          ],
          "name": "stdout"
        }
      ]
    },
    {
      "cell_type": "code",
      "metadata": {
        "id": "fjN4cA1TtOgB",
        "outputId": "fddf1223-b11a-4453-8731-45bb220e012c",
        "colab": {
          "base_uri": "https://localhost:8080/"
        }
      },
      "source": [
        "!ls"
      ],
      "execution_count": 2,
      "outputs": [
        {
          "output_type": "stream",
          "text": [
            "EPAI_Session13\tsample_data\n"
          ],
          "name": "stdout"
        }
      ]
    },
    {
      "cell_type": "code",
      "metadata": {
        "id": "6A8ecCKetQCc",
        "outputId": "26855917-ba1b-4983-a627-9745b7fd3156",
        "colab": {
          "base_uri": "https://localhost:8080/"
        }
      },
      "source": [
        "cd EPAI_Session13"
      ],
      "execution_count": 3,
      "outputs": [
        {
          "output_type": "stream",
          "text": [
            "/content/EPAI_Session13\n"
          ],
          "name": "stdout"
        }
      ]
    },
    {
      "cell_type": "code",
      "metadata": {
        "id": "oS_nhnL4tS1A",
        "outputId": "024410e3-768e-49b7-c62d-0c252ab75a5b",
        "colab": {
          "base_uri": "https://localhost:8080/"
        }
      },
      "source": [
        "!ls"
      ],
      "execution_count": 4,
      "outputs": [
        {
          "output_type": "stream",
          "text": [
            "CustomPolygon.py  EPAI_Session_13.ipynb  Polygon.py  README.md\n"
          ],
          "name": "stdout"
        }
      ]
    },
    {
      "cell_type": "code",
      "metadata": {
        "id": "GQBtzDXutUKQ"
      },
      "source": [
        "## Importing the custom modules\n",
        "from Polygon import Polygon\n",
        "from CustomPolygon import CustomPolygon"
      ],
      "execution_count": 5,
      "outputs": []
    },
    {
      "cell_type": "markdown",
      "metadata": {
        "id": "hmpk0v3AzJQl"
      },
      "source": [
        "# Testing Polygon Class"
      ]
    },
    {
      "cell_type": "markdown",
      "metadata": {
        "id": "vUeVBGjTtfyS"
      },
      "source": [
        "## Creating a Polygon with 5 vertices and Circum radius 10"
      ]
    },
    {
      "cell_type": "code",
      "metadata": {
        "id": "WMn4q2HYtdBd"
      },
      "source": [
        "poly = Polygon(5,10)"
      ],
      "execution_count": 6,
      "outputs": []
    },
    {
      "cell_type": "code",
      "metadata": {
        "id": "HgfS8I2lv-hf",
        "outputId": "6f2bbcd5-db54-462d-f513-b592a2dc3ae2",
        "colab": {
          "base_uri": "https://localhost:8080/"
        }
      },
      "source": [
        "help(poly)"
      ],
      "execution_count": 7,
      "outputs": [
        {
          "output_type": "stream",
          "text": [
            "Help on Polygon in module Polygon object:\n",
            "\n",
            "class Polygon(builtins.object)\n",
            " |  Creates a polygon with specified number of vertices and circum radius.\n",
            " |      \n",
            " |          Parameters : \n",
            " |              number_edges : Number of edges/vertices of polygon\n",
            " |              circum_radius : Circum radius of polygon\n",
            " |          Returns : \n",
            " |              interiorAngle=(n−2)*180/n \n",
            " |              edgeLength,s=2*R*sin(π/n)\n",
            " |              apothem,a=R*cos(π/n)\n",
            " |              area=1/2*n*s*a\n",
            " |              perimeter=n*s\n",
            " |  \n",
            " |  Methods defined here:\n",
            " |  \n",
            " |  __eq__(self, other)\n",
            " |      Return self==value.\n",
            " |  \n",
            " |  __gt__(self, other)\n",
            " |      Return self>value.\n",
            " |  \n",
            " |  __init__(self, number_edges, circum_radius)\n",
            " |      Initialize self.  See help(type(self)) for accurate signature.\n",
            " |  \n",
            " |  __repr__(self)\n",
            " |      Return repr(self).\n",
            " |  \n",
            " |  ----------------------------------------------------------------------\n",
            " |  Data descriptors defined here:\n",
            " |  \n",
            " |  __dict__\n",
            " |      dictionary for instance variables (if defined)\n",
            " |  \n",
            " |  __weakref__\n",
            " |      list of weak references to the object (if defined)\n",
            " |  \n",
            " |  apothem\n",
            " |  \n",
            " |  area\n",
            " |  \n",
            " |  circum_rad\n",
            " |  \n",
            " |  edgeLength\n",
            " |  \n",
            " |  edges\n",
            " |  \n",
            " |  interiorAngle\n",
            " |  \n",
            " |  perimeter\n",
            " |  \n",
            " |  ----------------------------------------------------------------------\n",
            " |  Data and other attributes defined here:\n",
            " |  \n",
            " |  __hash__ = None\n",
            "\n"
          ],
          "name": "stdout"
        }
      ]
    },
    {
      "cell_type": "code",
      "metadata": {
        "id": "xtAW9gaQttnx",
        "outputId": "b5d275c5-e7a4-416e-967c-e4bc766fdd2e",
        "colab": {
          "base_uri": "https://localhost:8080/"
        }
      },
      "source": [
        "print(poly.__doc__)"
      ],
      "execution_count": 8,
      "outputs": [
        {
          "output_type": "stream",
          "text": [
            "\n",
            "    Creates a polygon with specified number of vertices and circum radius.\n",
            "        \n",
            "            Parameters : \n",
            "                number_edges : Number of edges/vertices of polygon\n",
            "                circum_radius : Circum radius of polygon\n",
            "            Returns : \n",
            "                interiorAngle=(n−2)*180/n \n",
            "                edgeLength,s=2*R*sin(π/n)\n",
            "                apothem,a=R*cos(π/n)\n",
            "                area=1/2*n*s*a\n",
            "                perimeter=n*s\n",
            "    \n"
          ],
          "name": "stdout"
        }
      ]
    },
    {
      "cell_type": "code",
      "metadata": {
        "id": "K7eSsQsEveB9",
        "outputId": "5b2e3a11-1a5e-459a-8731-343d5d31f762",
        "colab": {
          "base_uri": "https://localhost:8080/"
        }
      },
      "source": [
        "print(\"Following are the characteristics of our created polygon : \")\n",
        "print(f\"Edges : {poly.edges}\")\n",
        "print(f\"Circum Radius : {poly.circum_rad}\")\n",
        "print(f\"Interior angle : {poly.interiorAngle}\")\n",
        "print(f\"Edge length : {poly.edgeLength}\")\n",
        "print(f\"Apothem : {poly.apothem}\")\n",
        "print(f\"Area : {poly.area}\")\n",
        "print(f\"Perimeter : {poly.perimeter}\")"
      ],
      "execution_count": 9,
      "outputs": [
        {
          "output_type": "stream",
          "text": [
            "Following are the characteristics of our created polygon : \n",
            "Edges : 5\n",
            "Circum Radius : 10\n",
            "Interior angle : 108.0\n",
            "Edge length : 11.755705045849464\n",
            "Apothem : 8.090169943749475\n",
            "Area : 237.76412907378844\n",
            "Perimeter : 58.77852522924732\n"
          ],
          "name": "stdout"
        }
      ]
    },
    {
      "cell_type": "markdown",
      "metadata": {
        "id": "g3tPnMCzyUXU"
      },
      "source": [
        "## Testing __ repr __()"
      ]
    },
    {
      "cell_type": "code",
      "metadata": {
        "id": "N7t9ZKY_wdbu",
        "outputId": "5f5dd839-54e1-4519-9cab-bcda558fe31a",
        "colab": {
          "base_uri": "https://localhost:8080/"
        }
      },
      "source": [
        "print(poly)"
      ],
      "execution_count": 10,
      "outputs": [
        {
          "output_type": "stream",
          "text": [
            "Polygon(Edges = 5, Circum Radius = 10)\n"
          ],
          "name": "stdout"
        }
      ]
    },
    {
      "cell_type": "markdown",
      "metadata": {
        "id": "aCUfLg7DyjXm"
      },
      "source": [
        "## Testing Equality __ eq __()"
      ]
    },
    {
      "cell_type": "code",
      "metadata": {
        "id": "0lxjoevoybTA",
        "outputId": "e88fd742-5a98-4f3a-96b5-78fb9c0f31d2",
        "colab": {
          "base_uri": "https://localhost:8080/"
        }
      },
      "source": [
        "poly1 = Polygon(10,20)\n",
        "poly2 = Polygon(10,20)\n",
        "poly1 == poly2"
      ],
      "execution_count": 11,
      "outputs": [
        {
          "output_type": "execute_result",
          "data": {
            "text/plain": [
              "True"
            ]
          },
          "metadata": {
            "tags": []
          },
          "execution_count": 11
        }
      ]
    },
    {
      "cell_type": "code",
      "metadata": {
        "id": "Ri9XRg8_yv1f",
        "outputId": "51245f3a-42e4-4078-c215-11f2359c1279",
        "colab": {
          "base_uri": "https://localhost:8080/"
        }
      },
      "source": [
        "poly1 = Polygon(10,20)\n",
        "poly2 = Polygon(100,20)\n",
        "poly1 == poly2"
      ],
      "execution_count": 12,
      "outputs": [
        {
          "output_type": "execute_result",
          "data": {
            "text/plain": [
              "False"
            ]
          },
          "metadata": {
            "tags": []
          },
          "execution_count": 12
        }
      ]
    },
    {
      "cell_type": "code",
      "metadata": {
        "id": "2dwDM5k6yyIv",
        "outputId": "eadc54c8-9484-4e09-c818-2585e033823a",
        "colab": {
          "base_uri": "https://localhost:8080/",
          "height": 278
        }
      },
      "source": [
        "poly1 == 100"
      ],
      "execution_count": 13,
      "outputs": [
        {
          "output_type": "error",
          "ename": "TypeError",
          "evalue": "ignored",
          "traceback": [
            "\u001b[0;31m---------------------------------------------------------------------------\u001b[0m",
            "\u001b[0;31mTypeError\u001b[0m                                 Traceback (most recent call last)",
            "\u001b[0;32m<ipython-input-13-8f5605b3fc89>\u001b[0m in \u001b[0;36m<module>\u001b[0;34m()\u001b[0m\n\u001b[0;32m----> 1\u001b[0;31m \u001b[0mpoly1\u001b[0m \u001b[0;34m==\u001b[0m \u001b[0;36m100\u001b[0m\u001b[0;34m\u001b[0m\u001b[0;34m\u001b[0m\u001b[0m\n\u001b[0m",
            "\u001b[0;32m/content/EPAI_Session13/Polygon.py\u001b[0m in \u001b[0;36m__eq__\u001b[0;34m(self, other)\u001b[0m\n\u001b[1;32m     72\u001b[0m             \u001b[0;32mreturn\u001b[0m \u001b[0;34m(\u001b[0m\u001b[0;34m(\u001b[0m\u001b[0mself\u001b[0m\u001b[0;34m.\u001b[0m\u001b[0medges\u001b[0m \u001b[0;34m==\u001b[0m \u001b[0mother\u001b[0m\u001b[0;34m.\u001b[0m\u001b[0medges\u001b[0m\u001b[0;34m)\u001b[0m \u001b[0;32mand\u001b[0m \u001b[0mself\u001b[0m\u001b[0;34m.\u001b[0m\u001b[0mcircum_rad\u001b[0m \u001b[0;34m==\u001b[0m \u001b[0mother\u001b[0m\u001b[0;34m.\u001b[0m\u001b[0mcircum_rad\u001b[0m\u001b[0;34m)\u001b[0m\u001b[0;34m\u001b[0m\u001b[0;34m\u001b[0m\u001b[0m\n\u001b[1;32m     73\u001b[0m         \u001b[0;32melse\u001b[0m\u001b[0;34m:\u001b[0m\u001b[0;34m\u001b[0m\u001b[0;34m\u001b[0m\u001b[0m\n\u001b[0;32m---> 74\u001b[0;31m             \u001b[0;32mraise\u001b[0m \u001b[0mTypeError\u001b[0m\u001b[0;34m(\u001b[0m\u001b[0;34mf\"Cannot compare values of type {self.__class__} and {other.__class__}\"\u001b[0m\u001b[0;34m)\u001b[0m\u001b[0;34m\u001b[0m\u001b[0;34m\u001b[0m\u001b[0m\n\u001b[0m\u001b[1;32m     75\u001b[0m \u001b[0;34m\u001b[0m\u001b[0m\n\u001b[1;32m     76\u001b[0m     \u001b[0;32mdef\u001b[0m \u001b[0m__gt__\u001b[0m\u001b[0;34m(\u001b[0m\u001b[0mself\u001b[0m\u001b[0;34m,\u001b[0m\u001b[0mother\u001b[0m\u001b[0;34m)\u001b[0m\u001b[0;34m:\u001b[0m\u001b[0;34m\u001b[0m\u001b[0;34m\u001b[0m\u001b[0m\n",
            "\u001b[0;31mTypeError\u001b[0m: Cannot compare values of type <class 'Polygon.Polygon'> and <class 'int'>"
          ]
        }
      ]
    },
    {
      "cell_type": "markdown",
      "metadata": {
        "id": "S8WghjsDy5Oc"
      },
      "source": [
        "## Testing (__ gt __)"
      ]
    },
    {
      "cell_type": "code",
      "metadata": {
        "id": "Ii76jcwPy0fS",
        "outputId": "21bba532-cccd-4333-9ded-0ad0c6cd289d",
        "colab": {
          "base_uri": "https://localhost:8080/"
        }
      },
      "source": [
        "poly1 = Polygon(10,20)\n",
        "poly2 = Polygon(100,20)\n",
        "poly1 > poly2"
      ],
      "execution_count": 14,
      "outputs": [
        {
          "output_type": "execute_result",
          "data": {
            "text/plain": [
              "False"
            ]
          },
          "metadata": {
            "tags": []
          },
          "execution_count": 14
        }
      ]
    },
    {
      "cell_type": "code",
      "metadata": {
        "id": "BeRU-pQkzByU",
        "outputId": "ee4a8b25-9e20-4287-b2c5-3c9de18dda55",
        "colab": {
          "base_uri": "https://localhost:8080/"
        }
      },
      "source": [
        "poly1 = Polygon(10,20)\n",
        "poly2 = Polygon(100,20)\n",
        "poly2 > poly1"
      ],
      "execution_count": 15,
      "outputs": [
        {
          "output_type": "execute_result",
          "data": {
            "text/plain": [
              "False"
            ]
          },
          "metadata": {
            "tags": []
          },
          "execution_count": 15
        }
      ]
    },
    {
      "cell_type": "markdown",
      "metadata": {
        "id": "Yr0LNXHAzT7H"
      },
      "source": [
        "# Testing Custom Sequence"
      ]
    },
    {
      "cell_type": "code",
      "metadata": {
        "id": "CHttXUo8zESh"
      },
      "source": [
        "p = CustomPolygon(7,20)"
      ],
      "execution_count": 16,
      "outputs": []
    },
    {
      "cell_type": "code",
      "metadata": {
        "id": "HUUjBQna1v43",
        "outputId": "f5db089b-e821-48e5-d07e-86d856b04601",
        "colab": {
          "base_uri": "https://localhost:8080/"
        }
      },
      "source": [
        "help(p)"
      ],
      "execution_count": 17,
      "outputs": [
        {
          "output_type": "stream",
          "text": [
            "Help on CustomPolygon in module CustomPolygon object:\n",
            "\n",
            "class CustomPolygon(builtins.object)\n",
            " |  Creates custom polygon sequence starting from number of vertices = 3 till the maximum specified number of vertices and common circum radius.\n",
            " |          Parameters : \n",
            " |              max_edges : Maximum number of edges/vertices of polygon in sequence\n",
            " |              common_circum_radius : Circum radius of polygon\n",
            " |          Returns : \n",
            " |              efficiency : List comprising efficiency values (area/perimeter) for all the polygons in sequence\n",
            " |              max_efficiency : Returns the Polygon with the highest area : perimeter ratio\n",
            " |  \n",
            " |  Methods defined here:\n",
            " |  \n",
            " |  __getitem__(self, s)\n",
            " |  \n",
            " |  __init__(self, max_edges, common_circum_radius)\n",
            " |      Initialize self.  See help(type(self)) for accurate signature.\n",
            " |  \n",
            " |  __len__(self)\n",
            " |  \n",
            " |  __repr__(self)\n",
            " |      Return repr(self).\n",
            " |  \n",
            " |  ----------------------------------------------------------------------\n",
            " |  Data descriptors defined here:\n",
            " |  \n",
            " |  __dict__\n",
            " |      dictionary for instance variables (if defined)\n",
            " |  \n",
            " |  __weakref__\n",
            " |      list of weak references to the object (if defined)\n",
            " |  \n",
            " |  max_efficiency\n",
            "\n"
          ],
          "name": "stdout"
        }
      ]
    },
    {
      "cell_type": "code",
      "metadata": {
        "id": "_O3WrNz11wwY",
        "outputId": "0485b5b8-fdcf-4d50-d87a-188b29037295",
        "colab": {
          "base_uri": "https://localhost:8080/"
        }
      },
      "source": [
        "# Lis of efficiency of all polygon\n",
        "list(p)"
      ],
      "execution_count": 18,
      "outputs": [
        {
          "output_type": "execute_result",
          "data": {
            "text/plain": [
              "[5.000000000000001,\n",
              " 7.0710678118654755,\n",
              " 8.090169943749475,\n",
              " 8.660254037844387,\n",
              " 9.009688679024192]"
            ]
          },
          "metadata": {
            "tags": []
          },
          "execution_count": 18
        }
      ]
    },
    {
      "cell_type": "code",
      "metadata": {
        "id": "GIR9s67k230p",
        "outputId": "f1bca090-cce2-4635-e2ad-ecc5c6058002",
        "colab": {
          "base_uri": "https://localhost:8080/"
        }
      },
      "source": [
        "## Testing slicing for custom sequence\n",
        "p[2:]\n"
      ],
      "execution_count": 21,
      "outputs": [
        {
          "output_type": "execute_result",
          "data": {
            "text/plain": [
              "[8.090169943749475, 8.660254037844387, 9.009688679024192]"
            ]
          },
          "metadata": {
            "tags": []
          },
          "execution_count": 21
        }
      ]
    },
    {
      "cell_type": "markdown",
      "metadata": {
        "id": "u3uxgoNk3Bg3"
      },
      "source": [
        "## Testing __ repr __ ()"
      ]
    },
    {
      "cell_type": "code",
      "metadata": {
        "id": "UhCyDgkD144L",
        "outputId": "310dd92e-21fe-4d08-a5cf-c488077db6d1",
        "colab": {
          "base_uri": "https://localhost:8080/"
        }
      },
      "source": [
        "print(p)"
      ],
      "execution_count": 22,
      "outputs": [
        {
          "output_type": "stream",
          "text": [
            "CustomPolygon(MaximumEdge = 7, Circum Radius = 20)\n"
          ],
          "name": "stdout"
        }
      ]
    },
    {
      "cell_type": "markdown",
      "metadata": {
        "id": "j5ixFfeP3G95"
      },
      "source": [
        "## Testing __ len __ ()"
      ]
    },
    {
      "cell_type": "code",
      "metadata": {
        "id": "s4IpBlCP1-Er",
        "outputId": "d8e2dd7d-a4ac-485b-a2be-fe2a9adf4731",
        "colab": {
          "base_uri": "https://localhost:8080/"
        }
      },
      "source": [
        "len(p)"
      ],
      "execution_count": 23,
      "outputs": [
        {
          "output_type": "execute_result",
          "data": {
            "text/plain": [
              "5"
            ]
          },
          "metadata": {
            "tags": []
          },
          "execution_count": 23
        }
      ]
    },
    {
      "cell_type": "code",
      "metadata": {
        "id": "GsME6yrV3P9b"
      },
      "source": [
        ""
      ],
      "execution_count": null,
      "outputs": []
    }
  ]
}