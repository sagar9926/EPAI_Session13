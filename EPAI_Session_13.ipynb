{
  "nbformat": 4,
  "nbformat_minor": 0,
  "metadata": {
    "colab": {
      "name": "EPAI Session 13.ipynb",
      "provenance": [],
      "collapsed_sections": [],
      "authorship_tag": "ABX9TyPBhDktR1IEqYPgPvWgfayU",
      "include_colab_link": true
    },
    "kernelspec": {
      "name": "python3",
      "display_name": "Python 3"
    }
  },
  "cells": [
    {
      "cell_type": "markdown",
      "metadata": {
        "id": "view-in-github",
        "colab_type": "text"
      },
      "source": [
        "<a href=\"https://colab.research.google.com/github/sagar9926/EPAI_Session13/blob/main/EPAI_Session_13.ipynb\" target=\"_parent\"><img src=\"https://colab.research.google.com/assets/colab-badge.svg\" alt=\"Open In Colab\"/></a>"
      ]
    },
    {
      "cell_type": "code",
      "metadata": {
        "id": "qjF6qBC2hFLZ",
        "outputId": "57e86c27-0701-4c81-d3c2-bba4f060b212",
        "colab": {
          "base_uri": "https://localhost:8080/"
        }
      },
      "source": [
        "!git clone https://github.com/sagar9926/EPAI_Session13.git"
      ],
      "execution_count": 1,
      "outputs": [
        {
          "output_type": "stream",
          "text": [
            "Cloning into 'EPAI_Session13'...\n",
            "remote: Enumerating objects: 18, done.\u001b[K\n",
            "remote: Counting objects: 100% (18/18), done.\u001b[K\n",
            "remote: Compressing objects: 100% (16/16), done.\u001b[K\n",
            "remote: Total 18 (delta 3), reused 0 (delta 0), pack-reused 0\u001b[K\n",
            "Unpacking objects: 100% (18/18), done.\n"
          ],
          "name": "stdout"
        }
      ]
    },
    {
      "cell_type": "code",
      "metadata": {
        "id": "fjN4cA1TtOgB",
        "outputId": "573a7438-33a2-4e42-b1b3-d29b9598e327",
        "colab": {
          "base_uri": "https://localhost:8080/"
        }
      },
      "source": [
        "!ls"
      ],
      "execution_count": 2,
      "outputs": [
        {
          "output_type": "stream",
          "text": [
            "EPAI_Session13\tsample_data\n"
          ],
          "name": "stdout"
        }
      ]
    },
    {
      "cell_type": "code",
      "metadata": {
        "id": "6A8ecCKetQCc",
        "outputId": "afc48b76-f2bd-48cf-a2dc-81fa47f4920c",
        "colab": {
          "base_uri": "https://localhost:8080/"
        }
      },
      "source": [
        "cd EPAI_Session13"
      ],
      "execution_count": 3,
      "outputs": [
        {
          "output_type": "stream",
          "text": [
            "/content/EPAI_Session13\n"
          ],
          "name": "stdout"
        }
      ]
    },
    {
      "cell_type": "code",
      "metadata": {
        "id": "oS_nhnL4tS1A",
        "outputId": "10d17339-ebe0-4c8f-ff2b-27428d821d88",
        "colab": {
          "base_uri": "https://localhost:8080/"
        }
      },
      "source": [
        "!ls"
      ],
      "execution_count": 4,
      "outputs": [
        {
          "output_type": "stream",
          "text": [
            "CustomPolygon.py  Polygon.py  README.md\n"
          ],
          "name": "stdout"
        }
      ]
    },
    {
      "cell_type": "code",
      "metadata": {
        "id": "GQBtzDXutUKQ"
      },
      "source": [
        "## Importing the custom modules\n",
        "from Polygon import Polygon\n",
        "from CustomPolygon import CustomPolygon"
      ],
      "execution_count": 5,
      "outputs": []
    },
    {
      "cell_type": "markdown",
      "metadata": {
        "id": "hmpk0v3AzJQl"
      },
      "source": [
        "# Testing Polygon Class"
      ]
    },
    {
      "cell_type": "markdown",
      "metadata": {
        "id": "vUeVBGjTtfyS"
      },
      "source": [
        "## Creating a Polygon with 5 vertices and Circum radius 10"
      ]
    },
    {
      "cell_type": "code",
      "metadata": {
        "id": "WMn4q2HYtdBd"
      },
      "source": [
        "poly = Polygon(5,10)"
      ],
      "execution_count": 6,
      "outputs": []
    },
    {
      "cell_type": "code",
      "metadata": {
        "id": "HgfS8I2lv-hf",
        "outputId": "b22c79ed-c77e-449b-887d-975d2653b07b",
        "colab": {
          "base_uri": "https://localhost:8080/"
        }
      },
      "source": [
        "help(poly)"
      ],
      "execution_count": 7,
      "outputs": [
        {
          "output_type": "stream",
          "text": [
            "Help on Polygon in module Polygon object:\n",
            "\n",
            "class Polygon(builtins.object)\n",
            " |  Creates a polygon with specified number of vertices and circum radius.\n",
            " |      \n",
            " |          Parameters : \n",
            " |              number_edges : Number of edges/vertices of polygon\n",
            " |              circum_radius : Circum radius of polygon\n",
            " |          Returns : \n",
            " |              interiorAngle=(n−2)*180/n \n",
            " |              edgeLength,s=2*R*sin(π/n)\n",
            " |              apothem,a=R*cos(π/n)\n",
            " |              area=1/2*n*s*a\n",
            " |              perimeter=n*s\n",
            " |  \n",
            " |  Methods defined here:\n",
            " |  \n",
            " |  __eq__(self, other)\n",
            " |      Return self==value.\n",
            " |  \n",
            " |  __gt__(self, other)\n",
            " |      Return self>value.\n",
            " |  \n",
            " |  __init__(self, number_edges, circum_radius)\n",
            " |      Initialize self.  See help(type(self)) for accurate signature.\n",
            " |  \n",
            " |  __repr__(self)\n",
            " |      Return repr(self).\n",
            " |  \n",
            " |  ----------------------------------------------------------------------\n",
            " |  Data descriptors defined here:\n",
            " |  \n",
            " |  __dict__\n",
            " |      dictionary for instance variables (if defined)\n",
            " |  \n",
            " |  __weakref__\n",
            " |      list of weak references to the object (if defined)\n",
            " |  \n",
            " |  apothem\n",
            " |  \n",
            " |  area\n",
            " |  \n",
            " |  circum_rad\n",
            " |  \n",
            " |  edgeLength\n",
            " |  \n",
            " |  edges\n",
            " |  \n",
            " |  interiorAngle\n",
            " |  \n",
            " |  perimeter\n",
            " |  \n",
            " |  ----------------------------------------------------------------------\n",
            " |  Data and other attributes defined here:\n",
            " |  \n",
            " |  __hash__ = None\n",
            "\n"
          ],
          "name": "stdout"
        }
      ]
    },
    {
      "cell_type": "code",
      "metadata": {
        "id": "xtAW9gaQttnx",
        "outputId": "3ee32c6e-9a72-411e-ee39-dc6d582fccaf",
        "colab": {
          "base_uri": "https://localhost:8080/"
        }
      },
      "source": [
        "print(poly.__doc__)"
      ],
      "execution_count": 8,
      "outputs": [
        {
          "output_type": "stream",
          "text": [
            "\n",
            "    Creates a polygon with specified number of vertices and circum radius.\n",
            "        \n",
            "            Parameters : \n",
            "                number_edges : Number of edges/vertices of polygon\n",
            "                circum_radius : Circum radius of polygon\n",
            "            Returns : \n",
            "                interiorAngle=(n−2)*180/n \n",
            "                edgeLength,s=2*R*sin(π/n)\n",
            "                apothem,a=R*cos(π/n)\n",
            "                area=1/2*n*s*a\n",
            "                perimeter=n*s\n",
            "    \n"
          ],
          "name": "stdout"
        }
      ]
    },
    {
      "cell_type": "code",
      "metadata": {
        "id": "K7eSsQsEveB9",
        "outputId": "39ba6303-5c6a-4521-e9e5-e73ee125a707",
        "colab": {
          "base_uri": "https://localhost:8080/"
        }
      },
      "source": [
        "print(\"Following are the characteristics of our created polygon : \")\n",
        "print(f\"Edges : {poly.edges}\")\n",
        "print(f\"Circum Radius : {poly.circum_rad}\")\n",
        "print(f\"Interior angle : {poly.interiorAngle}\")\n",
        "print(f\"Edge length : {poly.edgeLength}\")\n",
        "print(f\"Apothem : {poly.apothem}\")\n",
        "print(f\"Area : {poly.area}\")\n",
        "print(f\"Perimeter : {poly.perimeter}\")"
      ],
      "execution_count": 9,
      "outputs": [
        {
          "output_type": "stream",
          "text": [
            "Following are the characteristics of our created polygon : \n",
            "Edges : 5\n",
            "Circum Radius : 10\n",
            "Interior angle : 108.0\n",
            "Edge length : 11.755705045849464\n",
            "Apothem : 8.090169943749475\n",
            "Area : 237.76412907378844\n",
            "Perimeter : 58.77852522924732\n"
          ],
          "name": "stdout"
        }
      ]
    },
    {
      "cell_type": "markdown",
      "metadata": {
        "id": "g3tPnMCzyUXU"
      },
      "source": [
        "## Testing __ repr __()"
      ]
    },
    {
      "cell_type": "code",
      "metadata": {
        "id": "N7t9ZKY_wdbu",
        "outputId": "b278b75b-f9e3-49f7-ecfd-f8fb1ffe28bd",
        "colab": {
          "base_uri": "https://localhost:8080/"
        }
      },
      "source": [
        "print(poly)"
      ],
      "execution_count": 10,
      "outputs": [
        {
          "output_type": "stream",
          "text": [
            "Polygon(Edges = 5, Circum Radius = 10)\n"
          ],
          "name": "stdout"
        }
      ]
    },
    {
      "cell_type": "markdown",
      "metadata": {
        "id": "aCUfLg7DyjXm"
      },
      "source": [
        "## Testing Equality __ eq __()"
      ]
    },
    {
      "cell_type": "code",
      "metadata": {
        "id": "0lxjoevoybTA",
        "outputId": "69efe912-8809-45b4-a4fd-d8b535b2bb4f",
        "colab": {
          "base_uri": "https://localhost:8080/"
        }
      },
      "source": [
        "poly1 = Polygon(10,20)\n",
        "poly2 = Polygon(10,20)\n",
        "poly1 == poly2"
      ],
      "execution_count": 11,
      "outputs": [
        {
          "output_type": "execute_result",
          "data": {
            "text/plain": [
              "True"
            ]
          },
          "metadata": {
            "tags": []
          },
          "execution_count": 11
        }
      ]
    },
    {
      "cell_type": "code",
      "metadata": {
        "id": "Ri9XRg8_yv1f",
        "outputId": "7479605c-b2e6-482d-cf2d-78a32d6bc8c2",
        "colab": {
          "base_uri": "https://localhost:8080/"
        }
      },
      "source": [
        "poly1 = Polygon(10,20)\n",
        "poly2 = Polygon(100,20)\n",
        "poly1 == poly2"
      ],
      "execution_count": 12,
      "outputs": [
        {
          "output_type": "execute_result",
          "data": {
            "text/plain": [
              "False"
            ]
          },
          "metadata": {
            "tags": []
          },
          "execution_count": 12
        }
      ]
    },
    {
      "cell_type": "code",
      "metadata": {
        "id": "2dwDM5k6yyIv",
        "outputId": "dee9d32b-91cd-45f5-e50c-4f6dd6a91028",
        "colab": {
          "base_uri": "https://localhost:8080/",
          "height": 278
        }
      },
      "source": [
        "poly1 == 100"
      ],
      "execution_count": 13,
      "outputs": [
        {
          "output_type": "error",
          "ename": "TypeError",
          "evalue": "ignored",
          "traceback": [
            "\u001b[0;31m---------------------------------------------------------------------------\u001b[0m",
            "\u001b[0;31mTypeError\u001b[0m                                 Traceback (most recent call last)",
            "\u001b[0;32m<ipython-input-13-8f5605b3fc89>\u001b[0m in \u001b[0;36m<module>\u001b[0;34m()\u001b[0m\n\u001b[0;32m----> 1\u001b[0;31m \u001b[0mpoly1\u001b[0m \u001b[0;34m==\u001b[0m \u001b[0;36m100\u001b[0m\u001b[0;34m\u001b[0m\u001b[0;34m\u001b[0m\u001b[0m\n\u001b[0m",
            "\u001b[0;32m/content/EPAI_Session13/Polygon.py\u001b[0m in \u001b[0;36m__eq__\u001b[0;34m(self, other)\u001b[0m\n\u001b[1;32m     72\u001b[0m             \u001b[0;32mreturn\u001b[0m \u001b[0;34m(\u001b[0m\u001b[0;34m(\u001b[0m\u001b[0mself\u001b[0m\u001b[0;34m.\u001b[0m\u001b[0medges\u001b[0m \u001b[0;34m==\u001b[0m \u001b[0mother\u001b[0m\u001b[0;34m.\u001b[0m\u001b[0medges\u001b[0m\u001b[0;34m)\u001b[0m \u001b[0;32mand\u001b[0m \u001b[0mself\u001b[0m\u001b[0;34m.\u001b[0m\u001b[0mcircum_rad\u001b[0m \u001b[0;34m==\u001b[0m \u001b[0mother\u001b[0m\u001b[0;34m.\u001b[0m\u001b[0mcircum_rad\u001b[0m\u001b[0;34m)\u001b[0m\u001b[0;34m\u001b[0m\u001b[0;34m\u001b[0m\u001b[0m\n\u001b[1;32m     73\u001b[0m         \u001b[0;32melse\u001b[0m\u001b[0;34m:\u001b[0m\u001b[0;34m\u001b[0m\u001b[0;34m\u001b[0m\u001b[0m\n\u001b[0;32m---> 74\u001b[0;31m             \u001b[0;32mraise\u001b[0m \u001b[0mTypeError\u001b[0m\u001b[0;34m(\u001b[0m\u001b[0;34mf\"Cannot compare values of type {self.__class__} and {other.__class__}\"\u001b[0m\u001b[0;34m)\u001b[0m\u001b[0;34m\u001b[0m\u001b[0;34m\u001b[0m\u001b[0m\n\u001b[0m\u001b[1;32m     75\u001b[0m \u001b[0;34m\u001b[0m\u001b[0m\n\u001b[1;32m     76\u001b[0m     \u001b[0;32mdef\u001b[0m \u001b[0m__gt__\u001b[0m\u001b[0;34m(\u001b[0m\u001b[0mself\u001b[0m\u001b[0;34m,\u001b[0m\u001b[0mother\u001b[0m\u001b[0;34m)\u001b[0m\u001b[0;34m:\u001b[0m\u001b[0;34m\u001b[0m\u001b[0;34m\u001b[0m\u001b[0m\n",
            "\u001b[0;31mTypeError\u001b[0m: Cannot compare values of type <class 'Polygon.Polygon'> and <class 'int'>"
          ]
        }
      ]
    },
    {
      "cell_type": "markdown",
      "metadata": {
        "id": "S8WghjsDy5Oc"
      },
      "source": [
        "## Testing (__ gt __)"
      ]
    },
    {
      "cell_type": "code",
      "metadata": {
        "id": "Ii76jcwPy0fS",
        "outputId": "5ac0ab60-2552-4769-b4a8-fb055c86904c",
        "colab": {
          "base_uri": "https://localhost:8080/"
        }
      },
      "source": [
        "poly1 = Polygon(10,20)\n",
        "poly2 = Polygon(100,20)\n",
        "poly1 > poly2"
      ],
      "execution_count": 14,
      "outputs": [
        {
          "output_type": "execute_result",
          "data": {
            "text/plain": [
              "False"
            ]
          },
          "metadata": {
            "tags": []
          },
          "execution_count": 14
        }
      ]
    },
    {
      "cell_type": "code",
      "metadata": {
        "id": "BeRU-pQkzByU",
        "outputId": "83259c34-d9c8-43b6-97f6-52d9d06bf59a",
        "colab": {
          "base_uri": "https://localhost:8080/"
        }
      },
      "source": [
        "poly1 = Polygon(10,20)\n",
        "poly2 = Polygon(100,20)\n",
        "poly2 > poly1"
      ],
      "execution_count": 15,
      "outputs": [
        {
          "output_type": "execute_result",
          "data": {
            "text/plain": [
              "False"
            ]
          },
          "metadata": {
            "tags": []
          },
          "execution_count": 15
        }
      ]
    },
    {
      "cell_type": "markdown",
      "metadata": {
        "id": "Yr0LNXHAzT7H"
      },
      "source": [
        "# Testing Custom Sequence"
      ]
    },
    {
      "cell_type": "code",
      "metadata": {
        "id": "CHttXUo8zESh"
      },
      "source": [
        ""
      ],
      "execution_count": null,
      "outputs": []
    }
  ]
}